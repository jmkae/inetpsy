{
 "cells": [
  {
   "cell_type": "code",
   "execution_count": 9,
   "metadata": {},
   "outputs": [],
   "source": [
    "\n",
    "import pandas as pd\n",
    "import streamlit as st\n"
   ]
  },
  {
   "cell_type": "code",
   "execution_count": 12,
   "metadata": {},
   "outputs": [],
   "source": [
    "def load_full_set():\n",
    "    path_to_data = 'C:/Users/janko/python/data/ema_emi_for_pyt.csv'\n",
    "    return pd.read_csv(path_to_data)\n",
    "\n",
    "df_full = load_full_set()\n",
    "\n",
    "\n",
    "def load_data():\n",
    "    path_to_data = 'C:/Users/janko/python/data/net_for_pyt.csv'\n",
    "    return pd.read_csv(path_to_data)\n",
    "\n",
    "df_part = load_data()\n",
    "\n",
    "#implement variable selection\n",
    "# here I want to implement a variable selection\n",
    "item_selection = st.multiselect(\n",
    "    \"select variables for your personal network\",\n",
    "    [\"Angespannt\", \"Stimmenhören\", \"Belastung Stimmen\"],\n",
    "    [\"Angespannt\", \"Belastung Stimmen\"],\n",
    ")\n",
    "\n",
    "# Mapping dictionary\n",
    "mapping_dict = {\n",
    "    \"Angespannt\": \"V1\",\n",
    "    \"Stimmenhören\": \"V2\",\n",
    "    \"Belastung Stimmen\": \"V3\",\n",
    "    \"Stimmen böse\": \"V4\",\n",
    "    \"NSSV\": \"V5\",\n",
    "}\n",
    "\n",
    "transformed_list = [mapping_dict[item] for item in item_selection]\n"
   ]
  }
 ],
 "metadata": {
  "kernelspec": {
   "display_name": ".venv",
   "language": "python",
   "name": "python3"
  },
  "language_info": {
   "codemirror_mode": {
    "name": "ipython",
    "version": 3
   },
   "file_extension": ".py",
   "mimetype": "text/x-python",
   "name": "python",
   "nbconvert_exporter": "python",
   "pygments_lexer": "ipython3",
   "version": "3.11.4"
  }
 },
 "nbformat": 4,
 "nbformat_minor": 2
}
